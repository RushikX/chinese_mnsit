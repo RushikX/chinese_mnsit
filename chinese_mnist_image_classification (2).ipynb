{
  "cells": [
    {
      "cell_type": "markdown",
      "id": "52c6877c",
      "metadata": {
        "papermill": {
          "duration": 0.01618,
          "end_time": "2021-10-14T11:08:41.177877",
          "exception": false,
          "start_time": "2021-10-14T11:08:41.161697",
          "status": "completed"
        },
        "tags": [],
        "id": "52c6877c"
      },
      "source": [
        "# Handwritten Chinese Digit Recognizer"
      ]
    },
    {
      "cell_type": "markdown",
      "id": "92ee8be4",
      "metadata": {
        "papermill": {
          "duration": 0.014995,
          "end_time": "2021-10-14T11:08:41.209855",
          "exception": false,
          "start_time": "2021-10-14T11:08:41.194860",
          "status": "completed"
        },
        "tags": [],
        "id": "92ee8be4"
      },
      "source": [
        "## [Dataset](https://www.kaggle.com/gpreda/chinese-mnist) 15000 64x64 .jpg\n"
      ]
    },
    {
      "cell_type": "code",
      "source": [
        "!pip install opendatasets --upgrade\n",
        "import opendatasets as od\n",
        "dataset_url = 'https://www.kaggle.com/datasets/gpreda/chinese-mnist'\n",
        "od.download(dataset_url)"
      ],
      "metadata": {
        "colab": {
          "base_uri": "https://localhost:8080/"
        },
        "id": "YtVtiPK4ollj",
        "outputId": "29cc5b79-f70f-4d0c-918c-d27df5342225"
      },
      "execution_count": 1,
      "outputs": [
        {
          "output_type": "stream",
          "name": "stdout",
          "text": [
            "Looking in indexes: https://pypi.org/simple, https://us-python.pkg.dev/colab-wheels/public/simple/\n",
            "Collecting opendatasets\n",
            "  Downloading opendatasets-0.1.22-py3-none-any.whl (15 kB)\n",
            "Requirement already satisfied: tqdm in /usr/local/lib/python3.10/dist-packages (from opendatasets) (4.65.0)\n",
            "Requirement already satisfied: kaggle in /usr/local/lib/python3.10/dist-packages (from opendatasets) (1.5.13)\n",
            "Requirement already satisfied: click in /usr/local/lib/python3.10/dist-packages (from opendatasets) (8.1.3)\n",
            "Requirement already satisfied: six>=1.10 in /usr/local/lib/python3.10/dist-packages (from kaggle->opendatasets) (1.16.0)\n",
            "Requirement already satisfied: certifi in /usr/local/lib/python3.10/dist-packages (from kaggle->opendatasets) (2022.12.7)\n",
            "Requirement already satisfied: python-dateutil in /usr/local/lib/python3.10/dist-packages (from kaggle->opendatasets) (2.8.2)\n",
            "Requirement already satisfied: requests in /usr/local/lib/python3.10/dist-packages (from kaggle->opendatasets) (2.27.1)\n",
            "Requirement already satisfied: python-slugify in /usr/local/lib/python3.10/dist-packages (from kaggle->opendatasets) (8.0.1)\n",
            "Requirement already satisfied: urllib3 in /usr/local/lib/python3.10/dist-packages (from kaggle->opendatasets) (1.26.15)\n",
            "Requirement already satisfied: text-unidecode>=1.3 in /usr/local/lib/python3.10/dist-packages (from python-slugify->kaggle->opendatasets) (1.3)\n",
            "Requirement already satisfied: charset-normalizer~=2.0.0 in /usr/local/lib/python3.10/dist-packages (from requests->kaggle->opendatasets) (2.0.12)\n",
            "Requirement already satisfied: idna<4,>=2.5 in /usr/local/lib/python3.10/dist-packages (from requests->kaggle->opendatasets) (3.4)\n",
            "Installing collected packages: opendatasets\n",
            "Successfully installed opendatasets-0.1.22\n",
            "Please provide your Kaggle credentials to download this dataset. Learn more: http://bit.ly/kaggle-creds\n",
            "Your Kaggle username: rushiky\n",
            "Your Kaggle Key: ··········\n",
            "Downloading chinese-mnist.zip to ./chinese-mnist\n"
          ]
        },
        {
          "output_type": "stream",
          "name": "stderr",
          "text": [
            "100%|██████████| 16.5M/16.5M [00:00<00:00, 110MB/s] "
          ]
        },
        {
          "output_type": "stream",
          "name": "stdout",
          "text": [
            "\n"
          ]
        },
        {
          "output_type": "stream",
          "name": "stderr",
          "text": [
            "\n"
          ]
        }
      ],
      "id": "YtVtiPK4ollj"
    },
    {
      "cell_type": "code",
      "execution_count": 7,
      "id": "9a1ebefc",
      "metadata": {
        "execution": {
          "iopub.execute_input": "2021-10-14T11:08:41.354171Z",
          "iopub.status.busy": "2021-10-14T11:08:41.348278Z",
          "iopub.status.idle": "2021-10-14T11:08:41.461340Z",
          "shell.execute_reply": "2021-10-14T11:08:41.460306Z",
          "shell.execute_reply.started": "2021-10-14T10:59:21.354699Z"
        },
        "papermill": {
          "duration": 0.205683,
          "end_time": "2021-10-14T11:08:41.461509",
          "exception": false,
          "start_time": "2021-10-14T11:08:41.255826",
          "status": "completed"
        },
        "tags": [],
        "id": "9a1ebefc"
      },
      "outputs": [],
      "source": [
        "import os\n",
        "import numpy as np\n",
        "import pandas as pd\n",
        "import glob\n",
        "import matplotlib.pyplot as plt\n",
        "import random\n",
        "import skimage"
      ]
    },
    {
      "cell_type": "markdown",
      "id": "b81970ab",
      "metadata": {
        "papermill": {
          "duration": 0.015809,
          "end_time": "2021-10-14T11:08:41.493671",
          "exception": false,
          "start_time": "2021-10-14T11:08:41.477862",
          "status": "completed"
        },
        "tags": [],
        "id": "b81970ab"
      },
      "source": [
        "## Prepare Dataset"
      ]
    },
    {
      "cell_type": "code",
      "execution_count": 3,
      "id": "9466bec2",
      "metadata": {
        "execution": {
          "iopub.execute_input": "2021-10-14T11:08:41.531301Z",
          "iopub.status.busy": "2021-10-14T11:08:41.530643Z",
          "iopub.status.idle": "2021-10-14T11:08:41.586283Z",
          "shell.execute_reply": "2021-10-14T11:08:41.586702Z",
          "shell.execute_reply.started": "2021-10-14T10:59:21.388435Z"
        },
        "papermill": {
          "duration": 0.076142,
          "end_time": "2021-10-14T11:08:41.586849",
          "exception": false,
          "start_time": "2021-10-14T11:08:41.510707",
          "status": "completed"
        },
        "tags": [],
        "colab": {
          "base_uri": "https://localhost:8080/",
          "height": 206
        },
        "id": "9466bec2",
        "outputId": "45368d2b-240a-421b-e1c4-dc297446dd39"
      },
      "outputs": [
        {
          "output_type": "execute_result",
          "data": {
            "text/plain": [
              "   suite_id  sample_id  code  value character\n",
              "0         1          1    10      9         九\n",
              "1         1         10    10      9         九\n",
              "2         1          2    10      9         九\n",
              "3         1          3    10      9         九\n",
              "4         1          4    10      9         九"
            ],
            "text/html": [
              "\n",
              "  <div id=\"df-43d45794-8b37-472f-a8ab-8fad340da7ee\">\n",
              "    <div class=\"colab-df-container\">\n",
              "      <div>\n",
              "<style scoped>\n",
              "    .dataframe tbody tr th:only-of-type {\n",
              "        vertical-align: middle;\n",
              "    }\n",
              "\n",
              "    .dataframe tbody tr th {\n",
              "        vertical-align: top;\n",
              "    }\n",
              "\n",
              "    .dataframe thead th {\n",
              "        text-align: right;\n",
              "    }\n",
              "</style>\n",
              "<table border=\"1\" class=\"dataframe\">\n",
              "  <thead>\n",
              "    <tr style=\"text-align: right;\">\n",
              "      <th></th>\n",
              "      <th>suite_id</th>\n",
              "      <th>sample_id</th>\n",
              "      <th>code</th>\n",
              "      <th>value</th>\n",
              "      <th>character</th>\n",
              "    </tr>\n",
              "  </thead>\n",
              "  <tbody>\n",
              "    <tr>\n",
              "      <th>0</th>\n",
              "      <td>1</td>\n",
              "      <td>1</td>\n",
              "      <td>10</td>\n",
              "      <td>9</td>\n",
              "      <td>九</td>\n",
              "    </tr>\n",
              "    <tr>\n",
              "      <th>1</th>\n",
              "      <td>1</td>\n",
              "      <td>10</td>\n",
              "      <td>10</td>\n",
              "      <td>9</td>\n",
              "      <td>九</td>\n",
              "    </tr>\n",
              "    <tr>\n",
              "      <th>2</th>\n",
              "      <td>1</td>\n",
              "      <td>2</td>\n",
              "      <td>10</td>\n",
              "      <td>9</td>\n",
              "      <td>九</td>\n",
              "    </tr>\n",
              "    <tr>\n",
              "      <th>3</th>\n",
              "      <td>1</td>\n",
              "      <td>3</td>\n",
              "      <td>10</td>\n",
              "      <td>9</td>\n",
              "      <td>九</td>\n",
              "    </tr>\n",
              "    <tr>\n",
              "      <th>4</th>\n",
              "      <td>1</td>\n",
              "      <td>4</td>\n",
              "      <td>10</td>\n",
              "      <td>9</td>\n",
              "      <td>九</td>\n",
              "    </tr>\n",
              "  </tbody>\n",
              "</table>\n",
              "</div>\n",
              "      <button class=\"colab-df-convert\" onclick=\"convertToInteractive('df-43d45794-8b37-472f-a8ab-8fad340da7ee')\"\n",
              "              title=\"Convert this dataframe to an interactive table.\"\n",
              "              style=\"display:none;\">\n",
              "        \n",
              "  <svg xmlns=\"http://www.w3.org/2000/svg\" height=\"24px\"viewBox=\"0 0 24 24\"\n",
              "       width=\"24px\">\n",
              "    <path d=\"M0 0h24v24H0V0z\" fill=\"none\"/>\n",
              "    <path d=\"M18.56 5.44l.94 2.06.94-2.06 2.06-.94-2.06-.94-.94-2.06-.94 2.06-2.06.94zm-11 1L8.5 8.5l.94-2.06 2.06-.94-2.06-.94L8.5 2.5l-.94 2.06-2.06.94zm10 10l.94 2.06.94-2.06 2.06-.94-2.06-.94-.94-2.06-.94 2.06-2.06.94z\"/><path d=\"M17.41 7.96l-1.37-1.37c-.4-.4-.92-.59-1.43-.59-.52 0-1.04.2-1.43.59L10.3 9.45l-7.72 7.72c-.78.78-.78 2.05 0 2.83L4 21.41c.39.39.9.59 1.41.59.51 0 1.02-.2 1.41-.59l7.78-7.78 2.81-2.81c.8-.78.8-2.07 0-2.86zM5.41 20L4 18.59l7.72-7.72 1.47 1.35L5.41 20z\"/>\n",
              "  </svg>\n",
              "      </button>\n",
              "      \n",
              "  <style>\n",
              "    .colab-df-container {\n",
              "      display:flex;\n",
              "      flex-wrap:wrap;\n",
              "      gap: 12px;\n",
              "    }\n",
              "\n",
              "    .colab-df-convert {\n",
              "      background-color: #E8F0FE;\n",
              "      border: none;\n",
              "      border-radius: 50%;\n",
              "      cursor: pointer;\n",
              "      display: none;\n",
              "      fill: #1967D2;\n",
              "      height: 32px;\n",
              "      padding: 0 0 0 0;\n",
              "      width: 32px;\n",
              "    }\n",
              "\n",
              "    .colab-df-convert:hover {\n",
              "      background-color: #E2EBFA;\n",
              "      box-shadow: 0px 1px 2px rgba(60, 64, 67, 0.3), 0px 1px 3px 1px rgba(60, 64, 67, 0.15);\n",
              "      fill: #174EA6;\n",
              "    }\n",
              "\n",
              "    [theme=dark] .colab-df-convert {\n",
              "      background-color: #3B4455;\n",
              "      fill: #D2E3FC;\n",
              "    }\n",
              "\n",
              "    [theme=dark] .colab-df-convert:hover {\n",
              "      background-color: #434B5C;\n",
              "      box-shadow: 0px 1px 3px 1px rgba(0, 0, 0, 0.15);\n",
              "      filter: drop-shadow(0px 1px 2px rgba(0, 0, 0, 0.3));\n",
              "      fill: #FFFFFF;\n",
              "    }\n",
              "  </style>\n",
              "\n",
              "      <script>\n",
              "        const buttonEl =\n",
              "          document.querySelector('#df-43d45794-8b37-472f-a8ab-8fad340da7ee button.colab-df-convert');\n",
              "        buttonEl.style.display =\n",
              "          google.colab.kernel.accessAllowed ? 'block' : 'none';\n",
              "\n",
              "        async function convertToInteractive(key) {\n",
              "          const element = document.querySelector('#df-43d45794-8b37-472f-a8ab-8fad340da7ee');\n",
              "          const dataTable =\n",
              "            await google.colab.kernel.invokeFunction('convertToInteractive',\n",
              "                                                     [key], {});\n",
              "          if (!dataTable) return;\n",
              "\n",
              "          const docLinkHtml = 'Like what you see? Visit the ' +\n",
              "            '<a target=\"_blank\" href=https://colab.research.google.com/notebooks/data_table.ipynb>data table notebook</a>'\n",
              "            + ' to learn more about interactive tables.';\n",
              "          element.innerHTML = '';\n",
              "          dataTable['output_type'] = 'display_data';\n",
              "          await google.colab.output.renderOutput(dataTable, element);\n",
              "          const docLink = document.createElement('div');\n",
              "          docLink.innerHTML = docLinkHtml;\n",
              "          element.appendChild(docLink);\n",
              "        }\n",
              "      </script>\n",
              "    </div>\n",
              "  </div>\n",
              "  "
            ]
          },
          "metadata": {},
          "execution_count": 3
        }
      ],
      "source": [
        "\n",
        "df= pd.read_csv(\"chinese-mnist/chinese_mnist.csv\", low_memory = False)\n",
        "df.head()"
      ]
    },
    {
      "cell_type": "code",
      "execution_count": 8,
      "id": "9bcc48df",
      "metadata": {
        "execution": {
          "iopub.execute_input": "2021-10-14T11:08:41.625202Z",
          "iopub.status.busy": "2021-10-14T11:08:41.624491Z",
          "iopub.status.idle": "2021-10-14T11:08:42.168824Z",
          "shell.execute_reply": "2021-10-14T11:08:42.169546Z",
          "shell.execute_reply.started": "2021-10-14T10:59:21.436609Z"
        },
        "papermill": {
          "duration": 0.565898,
          "end_time": "2021-10-14T11:08:42.169743",
          "exception": false,
          "start_time": "2021-10-14T11:08:41.603845",
          "status": "completed"
        },
        "tags": [],
        "colab": {
          "base_uri": "https://localhost:8080/"
        },
        "id": "9bcc48df",
        "outputId": "e5f998af-f549-4d7d-c1eb-d4f59ae4f2f4"
      },
      "outputs": [
        {
          "output_type": "stream",
          "name": "stdout",
          "text": [
            "dataframe rows: 15000\n",
            "image files : 15000\n"
          ]
        }
      ],
      "source": [
        "print(\"dataframe rows:\", df.shape[0]) \n",
        "print(\"image files :\", len(os.listdir(\"chinese-mnist/data/data/\")))"
      ]
    },
    {
      "cell_type": "code",
      "execution_count": 9,
      "id": "e81214e2",
      "metadata": {
        "execution": {
          "iopub.execute_input": "2021-10-14T11:08:42.207923Z",
          "iopub.status.busy": "2021-10-14T11:08:42.205161Z",
          "iopub.status.idle": "2021-10-14T11:08:42.434205Z",
          "shell.execute_reply": "2021-10-14T11:08:42.434624Z",
          "shell.execute_reply.started": "2021-10-14T10:59:22.107069Z"
        },
        "papermill": {
          "duration": 0.247648,
          "end_time": "2021-10-14T11:08:42.434785",
          "exception": false,
          "start_time": "2021-10-14T11:08:42.187137",
          "status": "completed"
        },
        "tags": [],
        "colab": {
          "base_uri": "https://localhost:8080/",
          "height": 206
        },
        "id": "e81214e2",
        "outputId": "50a05968-50f9-4b7d-e15a-e7ca8fd5ec22"
      },
      "outputs": [
        {
          "output_type": "execute_result",
          "data": {
            "text/plain": [
              "   suite_id  sample_id  code  value character          file_path\n",
              "0         1          1    10      9         九   input_1_1_10.jpg\n",
              "1         1         10    10      9         九  input_1_10_10.jpg\n",
              "2         1          2    10      9         九   input_1_2_10.jpg\n",
              "3         1          3    10      9         九   input_1_3_10.jpg\n",
              "4         1          4    10      9         九   input_1_4_10.jpg"
            ],
            "text/html": [
              "\n",
              "  <div id=\"df-c961e8c0-ba47-464a-b44c-52399fd9849c\">\n",
              "    <div class=\"colab-df-container\">\n",
              "      <div>\n",
              "<style scoped>\n",
              "    .dataframe tbody tr th:only-of-type {\n",
              "        vertical-align: middle;\n",
              "    }\n",
              "\n",
              "    .dataframe tbody tr th {\n",
              "        vertical-align: top;\n",
              "    }\n",
              "\n",
              "    .dataframe thead th {\n",
              "        text-align: right;\n",
              "    }\n",
              "</style>\n",
              "<table border=\"1\" class=\"dataframe\">\n",
              "  <thead>\n",
              "    <tr style=\"text-align: right;\">\n",
              "      <th></th>\n",
              "      <th>suite_id</th>\n",
              "      <th>sample_id</th>\n",
              "      <th>code</th>\n",
              "      <th>value</th>\n",
              "      <th>character</th>\n",
              "      <th>file_path</th>\n",
              "    </tr>\n",
              "  </thead>\n",
              "  <tbody>\n",
              "    <tr>\n",
              "      <th>0</th>\n",
              "      <td>1</td>\n",
              "      <td>1</td>\n",
              "      <td>10</td>\n",
              "      <td>9</td>\n",
              "      <td>九</td>\n",
              "      <td>input_1_1_10.jpg</td>\n",
              "    </tr>\n",
              "    <tr>\n",
              "      <th>1</th>\n",
              "      <td>1</td>\n",
              "      <td>10</td>\n",
              "      <td>10</td>\n",
              "      <td>9</td>\n",
              "      <td>九</td>\n",
              "      <td>input_1_10_10.jpg</td>\n",
              "    </tr>\n",
              "    <tr>\n",
              "      <th>2</th>\n",
              "      <td>1</td>\n",
              "      <td>2</td>\n",
              "      <td>10</td>\n",
              "      <td>9</td>\n",
              "      <td>九</td>\n",
              "      <td>input_1_2_10.jpg</td>\n",
              "    </tr>\n",
              "    <tr>\n",
              "      <th>3</th>\n",
              "      <td>1</td>\n",
              "      <td>3</td>\n",
              "      <td>10</td>\n",
              "      <td>9</td>\n",
              "      <td>九</td>\n",
              "      <td>input_1_3_10.jpg</td>\n",
              "    </tr>\n",
              "    <tr>\n",
              "      <th>4</th>\n",
              "      <td>1</td>\n",
              "      <td>4</td>\n",
              "      <td>10</td>\n",
              "      <td>9</td>\n",
              "      <td>九</td>\n",
              "      <td>input_1_4_10.jpg</td>\n",
              "    </tr>\n",
              "  </tbody>\n",
              "</table>\n",
              "</div>\n",
              "      <button class=\"colab-df-convert\" onclick=\"convertToInteractive('df-c961e8c0-ba47-464a-b44c-52399fd9849c')\"\n",
              "              title=\"Convert this dataframe to an interactive table.\"\n",
              "              style=\"display:none;\">\n",
              "        \n",
              "  <svg xmlns=\"http://www.w3.org/2000/svg\" height=\"24px\"viewBox=\"0 0 24 24\"\n",
              "       width=\"24px\">\n",
              "    <path d=\"M0 0h24v24H0V0z\" fill=\"none\"/>\n",
              "    <path d=\"M18.56 5.44l.94 2.06.94-2.06 2.06-.94-2.06-.94-.94-2.06-.94 2.06-2.06.94zm-11 1L8.5 8.5l.94-2.06 2.06-.94-2.06-.94L8.5 2.5l-.94 2.06-2.06.94zm10 10l.94 2.06.94-2.06 2.06-.94-2.06-.94-.94-2.06-.94 2.06-2.06.94z\"/><path d=\"M17.41 7.96l-1.37-1.37c-.4-.4-.92-.59-1.43-.59-.52 0-1.04.2-1.43.59L10.3 9.45l-7.72 7.72c-.78.78-.78 2.05 0 2.83L4 21.41c.39.39.9.59 1.41.59.51 0 1.02-.2 1.41-.59l7.78-7.78 2.81-2.81c.8-.78.8-2.07 0-2.86zM5.41 20L4 18.59l7.72-7.72 1.47 1.35L5.41 20z\"/>\n",
              "  </svg>\n",
              "      </button>\n",
              "      \n",
              "  <style>\n",
              "    .colab-df-container {\n",
              "      display:flex;\n",
              "      flex-wrap:wrap;\n",
              "      gap: 12px;\n",
              "    }\n",
              "\n",
              "    .colab-df-convert {\n",
              "      background-color: #E8F0FE;\n",
              "      border: none;\n",
              "      border-radius: 50%;\n",
              "      cursor: pointer;\n",
              "      display: none;\n",
              "      fill: #1967D2;\n",
              "      height: 32px;\n",
              "      padding: 0 0 0 0;\n",
              "      width: 32px;\n",
              "    }\n",
              "\n",
              "    .colab-df-convert:hover {\n",
              "      background-color: #E2EBFA;\n",
              "      box-shadow: 0px 1px 2px rgba(60, 64, 67, 0.3), 0px 1px 3px 1px rgba(60, 64, 67, 0.15);\n",
              "      fill: #174EA6;\n",
              "    }\n",
              "\n",
              "    [theme=dark] .colab-df-convert {\n",
              "      background-color: #3B4455;\n",
              "      fill: #D2E3FC;\n",
              "    }\n",
              "\n",
              "    [theme=dark] .colab-df-convert:hover {\n",
              "      background-color: #434B5C;\n",
              "      box-shadow: 0px 1px 3px 1px rgba(0, 0, 0, 0.15);\n",
              "      filter: drop-shadow(0px 1px 2px rgba(0, 0, 0, 0.3));\n",
              "      fill: #FFFFFF;\n",
              "    }\n",
              "  </style>\n",
              "\n",
              "      <script>\n",
              "        const buttonEl =\n",
              "          document.querySelector('#df-c961e8c0-ba47-464a-b44c-52399fd9849c button.colab-df-convert');\n",
              "        buttonEl.style.display =\n",
              "          google.colab.kernel.accessAllowed ? 'block' : 'none';\n",
              "\n",
              "        async function convertToInteractive(key) {\n",
              "          const element = document.querySelector('#df-c961e8c0-ba47-464a-b44c-52399fd9849c');\n",
              "          const dataTable =\n",
              "            await google.colab.kernel.invokeFunction('convertToInteractive',\n",
              "                                                     [key], {});\n",
              "          if (!dataTable) return;\n",
              "\n",
              "          const docLinkHtml = 'Like what you see? Visit the ' +\n",
              "            '<a target=\"_blank\" href=https://colab.research.google.com/notebooks/data_table.ipynb>data table notebook</a>'\n",
              "            + ' to learn more about interactive tables.';\n",
              "          element.innerHTML = '';\n",
              "          dataTable['output_type'] = 'display_data';\n",
              "          await google.colab.output.renderOutput(dataTable, element);\n",
              "          const docLink = document.createElement('div');\n",
              "          docLink.innerHTML = docLinkHtml;\n",
              "          element.appendChild(docLink);\n",
              "        }\n",
              "      </script>\n",
              "    </div>\n",
              "  </div>\n",
              "  "
            ]
          },
          "metadata": {},
          "execution_count": 9
        }
      ],
      "source": [
        "def file_path_col(df):    \n",
        "    file_path = f\"input_{df[0]}_{df[1]}_{df[2]}.jpg\" #input_1_1_10.jpg    \n",
        "    return file_path\n",
        "\n",
        "df[\"file_path\"] = df.apply(file_path_col, axis = 1)\n",
        "df.head()"
      ]
    },
    {
      "cell_type": "markdown",
      "id": "122f8ff3",
      "metadata": {
        "papermill": {
          "duration": 0.016296,
          "end_time": "2021-10-14T11:08:42.468056",
          "exception": false,
          "start_time": "2021-10-14T11:08:42.451760",
          "status": "completed"
        },
        "tags": [],
        "id": "122f8ff3"
      },
      "source": [
        "### split dataset"
      ]
    },
    {
      "cell_type": "code",
      "execution_count": 10,
      "id": "a99d113f",
      "metadata": {
        "execution": {
          "iopub.execute_input": "2021-10-14T11:08:42.506342Z",
          "iopub.status.busy": "2021-10-14T11:08:42.505851Z",
          "iopub.status.idle": "2021-10-14T11:08:43.285092Z",
          "shell.execute_reply": "2021-10-14T11:08:43.283839Z",
          "shell.execute_reply.started": "2021-10-14T10:59:22.384659Z"
        },
        "papermill": {
          "duration": 0.800757,
          "end_time": "2021-10-14T11:08:43.285225",
          "exception": false,
          "start_time": "2021-10-14T11:08:42.484468",
          "status": "completed"
        },
        "tags": [],
        "colab": {
          "base_uri": "https://localhost:8080/"
        },
        "id": "a99d113f",
        "outputId": "58eee8c8-5e16-48c7-a251-d9ae3be9e719"
      },
      "outputs": [
        {
          "output_type": "stream",
          "name": "stdout",
          "text": [
            "12000\n",
            "7500\n",
            "7500\n"
          ]
        }
      ],
      "source": [
        "from sklearn.model_selection import train_test_split\n",
        "train_df, test_df = train_test_split(df, test_size = 0.2, random_state = 42, shuffle = True, stratify = df.code.values)\n",
        "val_df, test_df   = train_test_split(df, test_size = 0.5, random_state = 42, shuffle = True, stratify = df.code.values)\n",
        "\n",
        "print(train_df.shape[0])\n",
        "print(val_df.shape[0])\n",
        "print(test_df.shape[0])"
      ]
    },
    {
      "cell_type": "code",
      "execution_count": 11,
      "id": "1878bc0d",
      "metadata": {
        "execution": {
          "iopub.execute_input": "2021-10-14T11:08:43.326827Z",
          "iopub.status.busy": "2021-10-14T11:08:43.326032Z",
          "iopub.status.idle": "2021-10-14T11:08:43.564501Z",
          "shell.execute_reply": "2021-10-14T11:08:43.563857Z",
          "shell.execute_reply.started": "2021-10-14T10:59:23.093802Z"
        },
        "papermill": {
          "duration": 0.262157,
          "end_time": "2021-10-14T11:08:43.564641",
          "exception": false,
          "start_time": "2021-10-14T11:08:43.302484",
          "status": "completed"
        },
        "tags": [],
        "id": "1878bc0d"
      },
      "outputs": [],
      "source": [
        "import skimage.io\n",
        "import skimage.transform\n",
        "\n",
        "file_paths = list(df.file_path)\n",
        "def read_image(file_paths):\n",
        "    image = skimage.io.imread(\"chinese-mnist/data/data/\" + file_paths)\n",
        "    image = skimage.transform.resize(image, (64, 64, 1), mode=\"reflect\")   \n",
        "    return image[:, :, :]\n",
        "\n",
        "def character_encoder(df, var = \"character\"):\n",
        "    x = np.stack(df[\"file_path\"].apply(read_image))\n",
        "    y = pd.get_dummies(df[var], drop_first = False)\n",
        "    return x, y"
      ]
    },
    {
      "cell_type": "code",
      "execution_count": 12,
      "id": "073d793a",
      "metadata": {
        "execution": {
          "iopub.execute_input": "2021-10-14T11:08:43.606677Z",
          "iopub.status.busy": "2021-10-14T11:08:43.606144Z",
          "iopub.status.idle": "2021-10-14T11:11:42.543755Z",
          "shell.execute_reply": "2021-10-14T11:11:42.544182Z",
          "shell.execute_reply.started": "2021-10-14T10:59:23.370033Z"
        },
        "papermill": {
          "duration": 178.960907,
          "end_time": "2021-10-14T11:11:42.544350",
          "exception": false,
          "start_time": "2021-10-14T11:08:43.583443",
          "status": "completed"
        },
        "tags": [],
        "colab": {
          "base_uri": "https://localhost:8080/"
        },
        "id": "073d793a",
        "outputId": "8923dfe6-4810-4685-df33-a1aaa1a3b1e5"
      },
      "outputs": [
        {
          "output_type": "stream",
          "name": "stdout",
          "text": [
            "(12000, 64, 64, 1) , (12000, 15)\n",
            "(7500, 64, 64, 1) , (7500, 15)\n",
            "(7500, 64, 64, 1) , (7500, 15)\n"
          ]
        }
      ],
      "source": [
        "x_train, y_train = character_encoder(train_df)\n",
        "x_val, y_val = character_encoder(val_df)\n",
        "x_test, y_test = character_encoder(test_df)\n",
        "\n",
        "print(x_train.shape, \",\", y_train.shape)\n",
        "print(x_val.shape, \",\", y_val.shape)\n",
        "print(x_test.shape, \",\", y_test.shape)"
      ]
    },
    {
      "cell_type": "markdown",
      "id": "6ac17a6c",
      "metadata": {
        "papermill": {
          "duration": 0.016652,
          "end_time": "2021-10-14T11:11:42.578124",
          "exception": false,
          "start_time": "2021-10-14T11:11:42.561472",
          "status": "completed"
        },
        "tags": [],
        "id": "6ac17a6c"
      },
      "source": [
        "## Build Model"
      ]
    },
    {
      "cell_type": "code",
      "execution_count": 13,
      "id": "18ef5dfa",
      "metadata": {
        "execution": {
          "iopub.execute_input": "2021-10-14T11:11:42.616037Z",
          "iopub.status.busy": "2021-10-14T11:11:42.615262Z",
          "iopub.status.idle": "2021-10-14T11:11:42.617672Z",
          "shell.execute_reply": "2021-10-14T11:11:42.618046Z",
          "shell.execute_reply.started": "2021-10-14T11:01:53.220631Z"
        },
        "papermill": {
          "duration": 0.023383,
          "end_time": "2021-10-14T11:11:42.618173",
          "exception": false,
          "start_time": "2021-10-14T11:11:42.594790",
          "status": "completed"
        },
        "tags": [],
        "id": "18ef5dfa"
      },
      "outputs": [],
      "source": [
        "input_shape = (64,64,1)\n",
        "num_classes = y_train.shape[1] "
      ]
    },
    {
      "cell_type": "code",
      "execution_count": 14,
      "id": "d83181a5",
      "metadata": {
        "_uuid": "fa962e58f044307a2786ce0a3c6e4149db703c87",
        "execution": {
          "iopub.execute_input": "2021-10-14T11:11:42.658542Z",
          "iopub.status.busy": "2021-10-14T11:11:42.657990Z",
          "iopub.status.idle": "2021-10-14T11:11:48.529116Z",
          "shell.execute_reply": "2021-10-14T11:11:48.528340Z",
          "shell.execute_reply.started": "2021-10-14T11:01:53.230575Z"
        },
        "papermill": {
          "duration": 5.894522,
          "end_time": "2021-10-14T11:11:48.529241",
          "exception": false,
          "start_time": "2021-10-14T11:11:42.634719",
          "status": "completed"
        },
        "tags": [],
        "colab": {
          "base_uri": "https://localhost:8080/"
        },
        "id": "d83181a5",
        "outputId": "ad23a1cb-01e8-49c4-e2cb-911e725b330b"
      },
      "outputs": [
        {
          "output_type": "stream",
          "name": "stdout",
          "text": [
            "Model: \"sequential\"\n",
            "_________________________________________________________________\n",
            " Layer (type)                Output Shape              Param #   \n",
            "=================================================================\n",
            " conv2d (Conv2D)             (None, 64, 64, 32)        320       \n",
            "                                                                 \n",
            " max_pooling2d (MaxPooling2D  (None, 32, 32, 32)       0         \n",
            " )                                                               \n",
            "                                                                 \n",
            " conv2d_1 (Conv2D)           (None, 32, 32, 64)        18496     \n",
            "                                                                 \n",
            " max_pooling2d_1 (MaxPooling  (None, 16, 16, 64)       0         \n",
            " 2D)                                                             \n",
            "                                                                 \n",
            " conv2d_2 (Conv2D)           (None, 16, 16, 128)       73856     \n",
            "                                                                 \n",
            " max_pooling2d_2 (MaxPooling  (None, 8, 8, 128)        0         \n",
            " 2D)                                                             \n",
            "                                                                 \n",
            " flatten (Flatten)           (None, 8192)              0         \n",
            "                                                                 \n",
            " dense (Dense)               (None, 256)               2097408   \n",
            "                                                                 \n",
            " dense_1 (Dense)             (None, 15)                3855      \n",
            "                                                                 \n",
            "=================================================================\n",
            "Total params: 2,193,935\n",
            "Trainable params: 2,193,935\n",
            "Non-trainable params: 0\n",
            "_________________________________________________________________\n"
          ]
        }
      ],
      "source": [
        "from tensorflow.keras import models, layers\n",
        "\n",
        "model = models.Sequential()\n",
        "model.add(layers.Conv2D(32, kernel_size = (3, 3), padding = 'same', activation = 'relu', input_shape = input_shape))\n",
        "model.add(layers.MaxPool2D(pool_size = (2, 2)))       \n",
        "model.add(layers.Conv2D(64, kernel_size = (3, 3), activation = 'relu', padding = 'same'))\n",
        "model.add(layers.MaxPool2D(pool_size = (2, 2)))      \n",
        "model.add(layers.Conv2D(128, kernel_size = (3, 3), activation = 'relu', padding = 'same'))\n",
        "model.add(layers.MaxPool2D(pool_size = (2, 2)))    \n",
        "model.add(layers.Flatten())\n",
        "model.add(layers.Dense(256, activation = 'relu'))\n",
        "model.add(layers.Dense(num_classes, activation = 'softmax'))\n",
        "\n",
        "model.summary()"
      ]
    },
    {
      "cell_type": "code",
      "execution_count": 15,
      "id": "71392364",
      "metadata": {
        "execution": {
          "iopub.execute_input": "2021-10-14T11:11:48.575618Z",
          "iopub.status.busy": "2021-10-14T11:11:48.569762Z",
          "iopub.status.idle": "2021-10-14T11:11:48.581852Z",
          "shell.execute_reply": "2021-10-14T11:11:48.581094Z",
          "shell.execute_reply.started": "2021-10-14T11:01:59.335141Z"
        },
        "papermill": {
          "duration": 0.03462,
          "end_time": "2021-10-14T11:11:48.581965",
          "exception": false,
          "start_time": "2021-10-14T11:11:48.547345",
          "status": "completed"
        },
        "tags": [],
        "id": "71392364"
      },
      "outputs": [],
      "source": [
        "model.compile(loss = 'categorical_crossentropy', optimizer = 'adam' , metrics = ['accuracy'])"
      ]
    },
    {
      "cell_type": "markdown",
      "id": "1ba42cae",
      "metadata": {
        "papermill": {
          "duration": 0.017457,
          "end_time": "2021-10-14T11:11:48.616909",
          "exception": false,
          "start_time": "2021-10-14T11:11:48.599452",
          "status": "completed"
        },
        "tags": [],
        "id": "1ba42cae"
      },
      "source": [
        "## Train Model"
      ]
    },
    {
      "cell_type": "code",
      "execution_count": 16,
      "id": "6fb6761f",
      "metadata": {
        "_uuid": "ad17eae7537fe8657be0c2adfe7638c1039dda82",
        "execution": {
          "iopub.execute_input": "2021-10-14T11:11:48.656977Z",
          "iopub.status.busy": "2021-10-14T11:11:48.656459Z",
          "iopub.status.idle": "2021-10-14T11:12:24.352701Z",
          "shell.execute_reply": "2021-10-14T11:12:24.353385Z",
          "shell.execute_reply.started": "2021-10-14T11:01:59.351516Z"
        },
        "papermill": {
          "duration": 35.718885,
          "end_time": "2021-10-14T11:12:24.353583",
          "exception": false,
          "start_time": "2021-10-14T11:11:48.634698",
          "status": "completed"
        },
        "tags": [],
        "colab": {
          "base_uri": "https://localhost:8080/"
        },
        "id": "6fb6761f",
        "outputId": "aca29ed6-a346-46d7-fed0-482660af3642"
      },
      "outputs": [
        {
          "output_type": "stream",
          "name": "stdout",
          "text": [
            "Epoch 1/20\n",
            "94/94 [==============================] - 17s 47ms/step - loss: 1.1607 - accuracy: 0.6339 - val_loss: 0.3650 - val_accuracy: 0.8861\n",
            "Epoch 2/20\n",
            "94/94 [==============================] - 2s 19ms/step - loss: 0.2755 - accuracy: 0.9099 - val_loss: 0.1979 - val_accuracy: 0.9356\n",
            "Epoch 3/20\n",
            "94/94 [==============================] - 2s 18ms/step - loss: 0.1523 - accuracy: 0.9511 - val_loss: 0.1125 - val_accuracy: 0.9685\n",
            "Epoch 4/20\n",
            "94/94 [==============================] - 2s 18ms/step - loss: 0.0840 - accuracy: 0.9766 - val_loss: 0.0610 - val_accuracy: 0.9829\n",
            "Epoch 5/20\n",
            "94/94 [==============================] - 2s 18ms/step - loss: 0.0659 - accuracy: 0.9804 - val_loss: 0.0624 - val_accuracy: 0.9817\n",
            "Epoch 6/20\n",
            "94/94 [==============================] - 2s 18ms/step - loss: 0.0564 - accuracy: 0.9832 - val_loss: 0.0322 - val_accuracy: 0.9921\n",
            "Epoch 7/20\n",
            "94/94 [==============================] - 2s 18ms/step - loss: 0.0317 - accuracy: 0.9915 - val_loss: 0.0267 - val_accuracy: 0.9932\n",
            "Epoch 8/20\n",
            "94/94 [==============================] - 2s 22ms/step - loss: 0.0358 - accuracy: 0.9901 - val_loss: 0.0172 - val_accuracy: 0.9959\n",
            "Epoch 9/20\n",
            "94/94 [==============================] - 2s 18ms/step - loss: 0.0292 - accuracy: 0.9912 - val_loss: 0.0427 - val_accuracy: 0.9876\n",
            "Epoch 10/20\n",
            "94/94 [==============================] - 2s 18ms/step - loss: 0.0530 - accuracy: 0.9837 - val_loss: 0.0097 - val_accuracy: 0.9985\n",
            "Epoch 11/20\n",
            "94/94 [==============================] - 2s 18ms/step - loss: 0.0103 - accuracy: 0.9974 - val_loss: 0.0049 - val_accuracy: 0.9993\n",
            "Epoch 12/20\n",
            "94/94 [==============================] - 2s 18ms/step - loss: 0.0072 - accuracy: 0.9985 - val_loss: 0.0055 - val_accuracy: 0.9989\n",
            "Epoch 13/20\n",
            "94/94 [==============================] - 2s 19ms/step - loss: 0.0096 - accuracy: 0.9980 - val_loss: 0.0030 - val_accuracy: 0.9993\n",
            "Epoch 14/20\n",
            "94/94 [==============================] - 2s 20ms/step - loss: 0.0065 - accuracy: 0.9983 - val_loss: 0.0037 - val_accuracy: 0.9992\n",
            "Epoch 15/20\n",
            "94/94 [==============================] - 2s 23ms/step - loss: 0.0127 - accuracy: 0.9965 - val_loss: 0.0035 - val_accuracy: 0.9993\n",
            "Epoch 16/20\n",
            "94/94 [==============================] - 2s 18ms/step - loss: 0.0083 - accuracy: 0.9978 - val_loss: 0.0141 - val_accuracy: 0.9955\n",
            "Epoch 17/20\n",
            "94/94 [==============================] - 2s 18ms/step - loss: 0.0152 - accuracy: 0.9955 - val_loss: 0.0385 - val_accuracy: 0.9900\n",
            "Epoch 18/20\n",
            "94/94 [==============================] - 2s 21ms/step - loss: 0.0394 - accuracy: 0.9878 - val_loss: 0.0164 - val_accuracy: 0.9956\n",
            "Epoch 19/20\n",
            "94/94 [==============================] - 2s 23ms/step - loss: 0.0079 - accuracy: 0.9984 - val_loss: 0.0034 - val_accuracy: 0.9993\n",
            "Epoch 20/20\n",
            "94/94 [==============================] - 2s 18ms/step - loss: 0.0014 - accuracy: 1.0000 - val_loss: 6.5074e-04 - val_accuracy: 1.0000\n"
          ]
        }
      ],
      "source": [
        "history = model.fit(x_train, y_train, batch_size=128, epochs=20, validation_data=(x_val, y_val))"
      ]
    },
    {
      "cell_type": "markdown",
      "id": "216be3e2",
      "metadata": {
        "papermill": {
          "duration": 0.125784,
          "end_time": "2021-10-14T11:12:24.608043",
          "exception": false,
          "start_time": "2021-10-14T11:12:24.482259",
          "status": "completed"
        },
        "tags": [],
        "id": "216be3e2"
      },
      "source": [
        "### save model"
      ]
    },
    {
      "cell_type": "code",
      "execution_count": 17,
      "id": "a9ebab65",
      "metadata": {
        "execution": {
          "iopub.execute_input": "2021-10-14T11:12:24.861219Z",
          "iopub.status.busy": "2021-10-14T11:12:24.860398Z",
          "iopub.status.idle": "2021-10-14T11:12:24.925424Z",
          "shell.execute_reply": "2021-10-14T11:12:24.924974Z",
          "shell.execute_reply.started": "2021-10-14T11:02:29.901818Z"
        },
        "papermill": {
          "duration": 0.196265,
          "end_time": "2021-10-14T11:12:24.925584",
          "exception": false,
          "start_time": "2021-10-14T11:12:24.729319",
          "status": "completed"
        },
        "tags": [],
        "id": "a9ebab65"
      },
      "outputs": [],
      "source": [
        "model.save('chinese-mnist.h5')"
      ]
    },
    {
      "cell_type": "markdown",
      "id": "336cc5e2",
      "metadata": {
        "papermill": {
          "duration": 0.12071,
          "end_time": "2021-10-14T11:12:25.170282",
          "exception": false,
          "start_time": "2021-10-14T11:12:25.049572",
          "status": "completed"
        },
        "tags": [],
        "id": "336cc5e2"
      },
      "source": [
        "## Evaluate Model"
      ]
    },
    {
      "cell_type": "code",
      "execution_count": 18,
      "id": "a1df6a71",
      "metadata": {
        "_uuid": "bef1b63d5de51d3ec28dadb76fcdc66dc2f64211",
        "execution": {
          "iopub.execute_input": "2021-10-14T11:12:25.432782Z",
          "iopub.status.busy": "2021-10-14T11:12:25.431587Z",
          "iopub.status.idle": "2021-10-14T11:12:26.308159Z",
          "shell.execute_reply": "2021-10-14T11:12:26.307571Z",
          "shell.execute_reply.started": "2021-10-14T11:02:29.989129Z"
        },
        "papermill": {
          "duration": 1.016161,
          "end_time": "2021-10-14T11:12:26.308336",
          "exception": false,
          "start_time": "2021-10-14T11:12:25.292175",
          "status": "completed"
        },
        "tags": [],
        "colab": {
          "base_uri": "https://localhost:8080/"
        },
        "id": "a1df6a71",
        "outputId": "8ffd8223-f5ae-4efc-d3a3-b4cff1ff2d9a"
      },
      "outputs": [
        {
          "output_type": "stream",
          "name": "stdout",
          "text": [
            "Test loss:  0.02341156080365181\n",
            "Test accuracy:  0.9950666427612305\n"
          ]
        }
      ],
      "source": [
        "# Evaluate Model\n",
        "score = model.evaluate(x_test, y_test, verbose = 0)\n",
        "print('Test loss: ', score[0])\n",
        "print('Test accuracy: ', score[1])"
      ]
    },
    {
      "cell_type": "markdown",
      "id": "c751d1b6",
      "metadata": {
        "papermill": {
          "duration": 0.128618,
          "end_time": "2021-10-14T11:12:26.559445",
          "exception": false,
          "start_time": "2021-10-14T11:12:26.430827",
          "status": "completed"
        },
        "tags": [],
        "id": "c751d1b6"
      },
      "source": [
        "### show training history"
      ]
    },
    {
      "cell_type": "code",
      "execution_count": 19,
      "id": "bab2d6ac",
      "metadata": {
        "execution": {
          "iopub.execute_input": "2021-10-14T11:12:26.817752Z",
          "iopub.status.busy": "2021-10-14T11:12:26.816857Z",
          "iopub.status.idle": "2021-10-14T11:12:27.232200Z",
          "shell.execute_reply": "2021-10-14T11:12:27.232939Z",
          "shell.execute_reply.started": "2021-10-14T11:02:30.726530Z"
        },
        "papermill": {
          "duration": 0.552069,
          "end_time": "2021-10-14T11:12:27.233093",
          "exception": false,
          "start_time": "2021-10-14T11:12:26.681024",
          "status": "completed"
        },
        "tags": [],
        "colab": {
          "base_uri": "https://localhost:8080/",
          "height": 946
        },
        "id": "bab2d6ac",
        "outputId": "a1fe2723-a332-4ea3-ce3c-e65ad8303e61"
      },
      "outputs": [
        {
          "output_type": "stream",
          "name": "stdout",
          "text": [
            "dict_keys(['loss', 'accuracy', 'val_loss', 'val_accuracy'])\n"
          ]
        },
        {
          "output_type": "display_data",
          "data": {
            "text/plain": [
              "<Figure size 640x480 with 1 Axes>"
            ],
            "image/png": "[encoded data removed]"
          },
          "metadata": {}
        },
        {
          "output_type": "display_data",
          "data": {
            "text/plain": [
              "<Figure size 640x480 with 1 Axes>"
            ],
            "image/png": "[encoded data removed]"
          },
          "metadata": {}
        }
      ],
      "source": [
        "keys=history.history.keys()\n",
        "print(keys)\n",
        "\n",
        "def show_train_history(hisData,train,test): \n",
        "    plt.plot(hisData.history[train])\n",
        "    plt.plot(hisData.history[test])\n",
        "    plt.title('Training History')\n",
        "    plt.ylabel(train)\n",
        "    plt.xlabel('Epoch')\n",
        "    plt.legend(['train', 'val'], loc='upper left')\n",
        "    plt.show()\n",
        "\n",
        "show_train_history(history, 'loss', 'val_loss')\n",
        "show_train_history(history, 'accuracy', 'val_accuracy')"
      ]
    },
    {
      "cell_type": "code",
      "execution_count": 19,
      "id": "9255a504",
      "metadata": {
        "papermill": {
          "duration": 0.215623,
          "end_time": "2021-10-14T11:12:27.572193",
          "exception": false,
          "start_time": "2021-10-14T11:12:27.356570",
          "status": "completed"
        },
        "tags": [],
        "id": "9255a504"
      },
      "outputs": [],
      "source": []
    }
  ],
  "metadata": {
    "kernelspec": {
      "display_name": "Python 3",
      "name": "python3"
    },
    "language_info": {
      "codemirror_mode": {
        "name": "ipython",
        "version": 3
      },
      "file_extension": ".py",
      "mimetype": "text/x-python",
      "name": "python",
      "nbconvert_exporter": "python",
      "pygments_lexer": "ipython3",
      "version": "3.7.10"
    },
    "papermill": {
      "default_parameters": {},
      "duration": 236.767267,
      "end_time": "2021-10-14T11:12:30.947916",
      "environment_variables": {},
      "exception": null,
      "input_path": "__notebook__.ipynb",
      "output_path": "__notebook__.ipynb",
      "parameters": {},
      "start_time": "2021-10-14T11:08:34.180649",
      "version": "2.3.3"
    },
    "colab": {
      "provenance": [],
      "gpuType": "T4"
    },
    "accelerator": "GPU"
  },
  "nbformat": 4,
  "nbformat_minor": 5
}